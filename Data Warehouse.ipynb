{
 "cells": [
  {
   "cell_type": "markdown",
   "metadata": {},
   "source": [
    "# Data Warehouse\n",
    "\n",
    "1. Introduction to Data Warehouses\n",
    "2. Introduction to the Cloud and AWS\n",
    "3. Implementing Data Warehouses on AWS\n",
    "\n",
    "# Abstract\n",
    "* What is a Data Warehouse? A Business Perspective\n",
    "* What is a Data Warehouse? A Technical Perspective\n",
    "* Dimensional Modeling (Recap)\n",
    "* DWH Architecture\n",
    "* OLAP Cubes\n",
    "* DWH Storage Technology"
   ]
  },
  {
   "cell_type": "markdown",
   "metadata": {},
   "source": [
    "# What is a Data Warehouse? A Business Perspective\n",
    "You are in charge of a retailer’s data infrastructure. Let’s look at some business activities.\n",
    "\n",
    "* Customers should be able to find goods & make orders\n",
    "* Inventory Staff should be able to stock, retrieve, and re-order goods\n",
    "* Delivery Staff should be able to pick up & deliver goods\n",
    "* HR should be able to assess the performance of sales staff\n",
    "* Marketing should be able to see the effect of different sales channels\n",
    "* Management should be able to monitor sales growth\n",
    "\n",
    "Ask yourself: Can I build a database to support these activities? Are all of the above questions of the same nature?\n",
    "Let's take a closer look at details that may affect your data infrastructure.\n",
    "\n",
    "* Retailer has a nation-wide presence → Scale?\n",
    "* Acquired smaller retailers, brick & mortar shops, online store → Single database? Complexity?\n",
    "* Has support call center & social media accounts → Tabular data?\n",
    "* Customers, Inventory Staff and Delivery staff expect the system to be fast & stable → Performance\n",
    "* HR, Marketing & Sales Reports want a lot information but have not decided yet on everything they need → Clear Requirements?\n",
    "\n",
    "\n",
    "# Operational Vs Analytical Processes\n",
    " \n",
    "<Img src=\"https://github.com/rhnyewale/Data-Engineering-Projects/blob/main/Images/operational_analytical.JPG?raw=true\">\n",
    " \n",
    "\n",
    "**Data Warehouse is:**\n",
    "\n",
    "* is optimized to support processes for data analysis.\n",
    "* has data gathered from multiple sources.\n",
    "* is an Online Analytical Processing system.\n",
    "\n",
    "<Img src=\"https://github.com/rhnyewale/Data-Engineering-Projects/blob/main/Images/same_db_op_anlytics.JPG?raw=true\">\n",
    "    \n",
    "    \n",
    "**What happens if we use the same database for both OLAP and OLTP?**\n",
    "* The database schema will be hard to understand for business analysts\n",
    "* The analytical queries will be slow as we will have to perform lots of table joins\n",
    "* It might be totally ok if the database is small\n",
    "    \n",
    "    \n",
    "<Img src=\"https://github.com/rhnyewale/Data-Engineering-Projects/blob/main/Images/sol_olap.JPG?raw=true\">"
   ]
  },
  {
   "cell_type": "markdown",
   "metadata": {},
   "source": [
    "A data warehouse is a **subject-oriented, integrated, nonvolatile**, and **time-variant** collection of data in support of management decisions.\n",
    "\n",
    "Technical Perspective:<br/>\n",
    "A data warehouse is a system that **retrieves** and **consolidates** data **periodically** from the source systems into a **dimensional** or **normalized** data store. It usally **keeps years of history** and is **queried for business intelligence** or other **analytical activities**. It is typically updated in **batches**, not every time a transaction happens in the source system.\n",
    "\n",
    "**Data Warehouse Goals:**\n",
    "* Simple to understand\n",
    "* Performant\n",
    "* Quality Assured\n",
    "* Handles new questions well\n",
    "* Secure"
   ]
  },
  {
   "cell_type": "markdown",
   "metadata": {},
   "source": [
    "# D"
   ]
  }
 ],
 "metadata": {
  "kernelspec": {
   "display_name": "Python 3",
   "language": "python",
   "name": "python3"
  },
  "language_info": {
   "codemirror_mode": {
    "name": "ipython",
    "version": 3
   },
   "file_extension": ".py",
   "mimetype": "text/x-python",
   "name": "python",
   "nbconvert_exporter": "python",
   "pygments_lexer": "ipython3",
   "version": "3.7.6"
  },
  "toc": {
   "base_numbering": 1,
   "nav_menu": {},
   "number_sections": true,
   "sideBar": true,
   "skip_h1_title": false,
   "title_cell": "Table of Contents",
   "title_sidebar": "Contents",
   "toc_cell": false,
   "toc_position": {},
   "toc_section_display": true,
   "toc_window_display": false
  }
 },
 "nbformat": 4,
 "nbformat_minor": 4
}
